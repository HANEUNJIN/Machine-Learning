{
 "cells": [
  {
   "cell_type": "code",
   "execution_count": 12,
   "id": "548ad318",
   "metadata": {
    "scrolled": true
   },
   "outputs": [
    {
     "name": "stdout",
     "output_type": "stream",
     "text": [
      "0 12.669933\n",
      "200 0.24605069\n",
      "400 0.1537701\n",
      "600 0.114941984\n",
      "800 0.092618465\n",
      "1000 0.077835515\n",
      "1200 0.067227915\n",
      "1400 0.05920858\n",
      "1600 0.052917697\n",
      "1800 0.04784377\n",
      "2000 0.043661356\n"
     ]
    }
   ],
   "source": [
    "import tensorflow as tf\n",
    "import numpy as np\n",
    "\n",
    "# 3개의 데이터\n",
    "x_data = [[1, 2, 1], [2, 1, 3], [3, 1, 3], [4, 1, 5], [1, 7, 5], [2, 5, 6], [6, 6, 6], [7, 7, 7]]\n",
    "\n",
    "# 원-핫 인코딩 2,2,2,1,1,1,0,0 = CCCBBBAA\n",
    "y_data = [[0, 0, 1], [0, 0, 1], [0, 0, 1], [0, 1, 0], [0, 1, 0], [0, 1, 0], [1, 0, 0], [1, 0, 0]]\n",
    "\n",
    "X = tf.placeholder(\"float\", [None, 3])\n",
    "Y = tf.placeholder(\"float\", [None, 3])\n",
    "nb_classes = 3 #클래수의 개수\n",
    "\n",
    "\n",
    "W = tf.Variable(tf.random_normal([3, nb_classes]), name='weight')\n",
    "b = tf.Variable(tf.random_normal([nb_classes]), name='bias')\n",
    "\n",
    "# tf.nn.softmax는 softmax 활성화를 계산\n",
    "# tf.matmul(X,W)+b 는 XW=y\n",
    "hypothesis = tf.nn.softmax(tf.matmul(X, W) + b)\n",
    "\n",
    "# 비용/손실함수\n",
    "cost = tf.reduce_mean(-tf.reduce_sum(Y * tf.log(hypothesis), axis=1))\n",
    "optimizer = tf.train.GradientDescentOptimizer(learning_rate=0.1).minimize(cost)\n",
    "\n",
    "# 학습하는 방법\n",
    "sess = tf.Session()\n",
    "sess.run(tf.global_variables_initializer())\n",
    "\n",
    "for step in range(2001):\n",
    "    _, cost_val = sess.run([optimizer, cost], feed_dict={X: x_data, Y: y_data})\n",
    "    if step % 200 == 0:\n",
    "        print(step, cost_val)"
   ]
  },
  {
   "cell_type": "code",
   "execution_count": 32,
   "id": "250032cc",
   "metadata": {},
   "outputs": [
    {
     "name": "stdout",
     "output_type": "stream",
     "text": [
      "[[9.9959928e-01 3.7501811e-04 2.5752797e-05]] [0]\n"
     ]
    }
   ],
   "source": [
    "# = A학점 [0]\n",
    "a = sess.run(hypothesis, feed_dict = {X: [[9, 7, 8]]})\n",
    "print(a, sess.run(tf.argmax(a, 1)))"
   ]
  },
  {
   "cell_type": "code",
   "execution_count": 22,
   "id": "ed7395c2",
   "metadata": {},
   "outputs": [
    {
     "name": "stdout",
     "output_type": "stream",
     "text": [
      "[[5.7953537e-05 9.9924111e-01 7.0091896e-04]] [1]\n"
     ]
    }
   ],
   "source": [
    "# = B학점 [1]\n",
    "b = sess.run(hypothesis, feed_dict = {X: [[2, 5, 6]]})\n",
    "print(b, sess.run(tf.argmax(b, 1)))"
   ]
  },
  {
   "cell_type": "code",
   "execution_count": 21,
   "id": "f812cfd9",
   "metadata": {},
   "outputs": [
    {
     "name": "stdout",
     "output_type": "stream",
     "text": [
      "[[0.00257034 0.13766955 0.8597601 ]] [2]\n"
     ]
    }
   ],
   "source": [
    "# = C학점 [2]\n",
    "c = sess.run(hypothesis, feed_dict = {X: [[2, 1, 3]]})\n",
    "print(c, sess.run(tf.argmax(c, 1))) "
   ]
  },
  {
   "cell_type": "code",
   "execution_count": null,
   "id": "b5f2e718",
   "metadata": {},
   "outputs": [],
   "source": []
  }
 ],
 "metadata": {
  "kernelspec": {
   "display_name": "Python 3",
   "language": "python",
   "name": "python3"
  },
  "language_info": {
   "codemirror_mode": {
    "name": "ipython",
    "version": 3
   },
   "file_extension": ".py",
   "mimetype": "text/x-python",
   "name": "python",
   "nbconvert_exporter": "python",
   "pygments_lexer": "ipython3",
   "version": "3.7.10"
  }
 },
 "nbformat": 4,
 "nbformat_minor": 5
}
